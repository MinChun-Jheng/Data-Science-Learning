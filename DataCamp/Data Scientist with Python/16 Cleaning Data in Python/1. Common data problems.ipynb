{
 "cells": [
  {
   "cell_type": "code",
   "execution_count": 1,
   "metadata": {},
   "outputs": [],
   "source": [
    "import pandas as pd\n",
    "ride_sharing = pd.read_csv('ride_sharing_new.csv')"
   ]
  },
  {
   "cell_type": "code",
   "execution_count": null,
   "metadata": {},
   "outputs": [],
   "source": [
    "# .strip"
   ]
  },
  {
   "cell_type": "code",
   "execution_count": 3,
   "metadata": {},
   "outputs": [
    {
     "name": "stdout",
     "output_type": "stream",
     "text": [
      "<class 'pandas.core.frame.DataFrame'>\n",
      "RangeIndex: 25760 entries, 0 to 25759\n",
      "Data columns (total 10 columns):\n",
      "Unnamed: 0         25760 non-null int64\n",
      "duration           25760 non-null object\n",
      "station_A_id       25760 non-null int64\n",
      "station_A_name     25760 non-null object\n",
      "station_B_id       25760 non-null int64\n",
      "station_B_name     25760 non-null object\n",
      "bike_id            25760 non-null int64\n",
      "user_type          25760 non-null int64\n",
      "user_birth_year    25760 non-null int64\n",
      "user_gender        25760 non-null object\n",
      "dtypes: int64(6), object(4)\n",
      "memory usage: 2.0+ MB\n",
      "None\n",
      "count    25760.000000\n",
      "mean         2.008385\n",
      "std          0.704541\n",
      "min          1.000000\n",
      "25%          2.000000\n",
      "50%          2.000000\n",
      "75%          3.000000\n",
      "max          3.000000\n",
      "Name: user_type, dtype: float64\n",
      "count     25760\n",
      "unique        3\n",
      "top           2\n",
      "freq      12972\n",
      "Name: user_type_cat, dtype: int64\n"
     ]
    }
   ],
   "source": [
    "# 1\n",
    "# Print the information of ride_sharing\n",
    "print(ride_sharing.info())\n",
    "\n",
    "# Print summary statistics of user_type column\n",
    "print(ride_sharing['user_type'].describe())\n",
    "\n",
    "# Convert user_type from integer to category\n",
    "ride_sharing['user_type_cat'] = ride_sharing['user_type'].astype('category')\n",
    "\n",
    "# Write an assert statement confirming the change\n",
    "assert ride_sharing['user_type_cat'].dtype == 'category'\n",
    "\n",
    "# Print new summary statistics \n",
    "print(ride_sharing['user_type_cat'].describe())"
   ]
  },
  {
   "cell_type": "code",
   "execution_count": 5,
   "metadata": {},
   "outputs": [
    {
     "name": "stdout",
     "output_type": "stream",
     "text": [
      "0    12 minutes\n",
      "1    24 minutes\n",
      "2     8 minutes\n",
      "3     4 minutes\n",
      "4    11 minutes\n",
      "Name: duration, dtype: object\n"
     ]
    }
   ],
   "source": [
    "print(ride_sharing['duration'].head())\n",
    "# remove minute by using .strip\n",
    "# convert to in by using .astype"
   ]
  },
  {
   "cell_type": "code",
   "execution_count": 6,
   "metadata": {},
   "outputs": [
    {
     "name": "stdout",
     "output_type": "stream",
     "text": [
      "          duration duration_trim  duration_time\n",
      "0       12 minutes           12              12\n",
      "1       24 minutes           24              24\n",
      "2        8 minutes            8               8\n",
      "3        4 minutes            4               4\n",
      "4       11 minutes           11              11\n",
      "5       10 minutes           10              10\n",
      "6       16 minutes           16              16\n",
      "7        9 minutes            9               9\n",
      "8       21 minutes           21              21\n",
      "9        5 minutes            5               5\n",
      "10      19 minutes           19              19\n",
      "11       6 minutes            6               6\n",
      "12       7 minutes            7               7\n",
      "13     187 minutes          187             187\n",
      "14      13 minutes           13              13\n",
      "15       4 minutes            4               4\n",
      "16      32 minutes           32              32\n",
      "17       5 minutes            5               5\n",
      "18      16 minutes           16              16\n",
      "19      17 minutes           17              17\n",
      "20      16 minutes           16              16\n",
      "21      11 minutes           11              11\n",
      "22      10 minutes           10              10\n",
      "23       3 minutes            3               3\n",
      "24      11 minutes           11              11\n",
      "25       3 minutes            3               3\n",
      "26      12 minutes           12              12\n",
      "27       7 minutes            7               7\n",
      "28       5 minutes            5               5\n",
      "29       6 minutes            6               6\n",
      "...            ...           ...            ...\n",
      "25730    1 minutes            1               1\n",
      "25731   12 minutes           12              12\n",
      "25732   24 minutes           24              24\n",
      "25733   21 minutes           21              21\n",
      "25734    1 minutes            1               1\n",
      "25735    2 minutes            2               2\n",
      "25736   13 minutes           13              13\n",
      "25737   13 minutes           13              13\n",
      "25738   19 minutes           19              19\n",
      "25739   18 minutes           18              18\n",
      "25740   18 minutes           18              18\n",
      "25741   12 minutes           12              12\n",
      "25742    6 minutes            6               6\n",
      "25743   10 minutes           10              10\n",
      "25744    4 minutes            4               4\n",
      "25745   17 minutes           17              17\n",
      "25746    4 minutes            4               4\n",
      "25747   31 minutes           31              31\n",
      "25748   31 minutes           31              31\n",
      "25749   15 minutes           15              15\n",
      "25750   15 minutes           15              15\n",
      "25751   15 minutes           15              15\n",
      "25752   15 minutes           15              15\n",
      "25753    9 minutes            9               9\n",
      "25754    9 minutes            9               9\n",
      "25755   11 minutes           11              11\n",
      "25756   10 minutes           10              10\n",
      "25757   14 minutes           14              14\n",
      "25758   14 minutes           14              14\n",
      "25759   29 minutes           29              29\n",
      "\n",
      "[25760 rows x 3 columns]\n",
      "11.389052795031056\n"
     ]
    }
   ],
   "source": [
    "# 2\n",
    "# Strip duration of minutes\n",
    "ride_sharing['duration_trim'] = ride_sharing['duration'].str.strip('minutes') \n",
    "\n",
    "# Convert duration to integer\n",
    "ride_sharing['duration_time'] = ride_sharing['duration_trim'].astype('int')\n",
    "\n",
    "# Write an assert statement making sure of conversion\n",
    "assert ride_sharing['duration_time'].dtype == 'int'\n",
    "\n",
    "# Print formed columns and calculate average ride duration \n",
    "print(ride_sharing[['duration','duration_trim','duration_time']])\n",
    "print(ride_sharing['duration_time'].mean())"
   ]
  },
  {
   "cell_type": "code",
   "execution_count": 10,
   "metadata": {},
   "outputs": [
    {
     "name": "stdout",
     "output_type": "stream",
     "text": [
      "Index(['Unnamed: 0', 'duration', 'station_A_id', 'station_A_name',\n",
      "       'station_B_id', 'station_B_name', 'bike_id', 'user_type',\n",
      "       'user_birth_year', 'user_gender', 'user_type_cat', 'duration_trim',\n",
      "       'duration_time'],\n",
      "      dtype='object')\n"
     ]
    }
   ],
   "source": [
    "print(ride_sharing.keys())"
   ]
  },
  {
   "cell_type": "code",
   "execution_count": 11,
   "metadata": {},
   "outputs": [],
   "source": [
    "# 3\n",
    "# Convert tire_sizes to integer\n",
    "ride_sharing['tire_sizes'] = ride_sharing['tire_sizes'].astype('int')\n",
    "\n",
    "# Set all values above 27 to 27\n",
    "ride_sharing.loc[ride_sharing['tire_sizes'] > 27, 'tire_sizes'] = 27\n",
    "\n",
    "# Reconvert tire_sizes back to categorical\n",
    "ride_sharing['tire_sizes'] = ride_sharing['tire_sizes'].astype('category')\n",
    "\n",
    "# Print tire size description\n",
    "print(ride_sharing['tire_sizes'].describe())"
   ]
  },
  {
   "cell_type": "code",
   "execution_count": 12,
   "metadata": {},
   "outputs": [],
   "source": [
    "import datetime as dt"
   ]
  },
  {
   "cell_type": "code",
   "execution_count": 14,
   "metadata": {},
   "outputs": [],
   "source": [
    "# 4\n",
    "# Convert ride_date to datetime\n",
    "ride_sharing['ride_dt'] = pd.to_datetime(ride_sharing['ride_date'])\n",
    "\n",
    "# Save today's date\n",
    "today = dt.date.today()\n",
    "\n",
    "# Set all in the future to today's date\n",
    "ride_sharing.loc[ride_sharing['ride_dt'] > today, 'ride_dt'] = today\n",
    "\n",
    "# Print maximum of ride_dt column\n",
    "print(ride_sharing['ride_dt'].max())"
   ]
  },
  {
   "cell_type": "code",
   "execution_count": 16,
   "metadata": {},
   "outputs": [],
   "source": [
    "# 5\n",
    "# Find duplicates\n",
    "duplicates = ride_sharing.duplicated(subset = 'ride_id', keep = False)\n",
    "\n",
    "# Sort your duplicated rides\n",
    "duplicated_rides = ride_sharing[duplicates].sort_values('ride_id')\n",
    "\n",
    "# Print relevant columns\n",
    "print(duplicated_rides[['ride_id','duration','user_birth_year']])"
   ]
  },
  {
   "cell_type": "code",
   "execution_count": null,
   "metadata": {},
   "outputs": [],
   "source": [
    "# 6\n",
    "# Drop complete duplicates from ride_sharing\n",
    "ride_dup = ride_sharing.drop_duplicates()\n",
    "\n",
    "# Create statistics dictionary for aggregation function\n",
    "statistics = {'user_birth_year': 'min', 'duration': 'mean'}\n",
    "\n",
    "# Group by ride_id and compute new statistics\n",
    "ride_unique = ride_dup.groupby('ride_id').agg(statistics).reset_index()\n",
    "\n",
    "# Find duplicated values again\n",
    "duplicates = ride_unique.duplicated(subset = 'ride_id', keep = False)\n",
    "duplicated_rides = ride_unique[duplicates == True]\n",
    "\n",
    "# Assert duplicates are processed\n",
    "assert duplicated_rides.shape[0] == 0"
   ]
  }
 ],
 "metadata": {
  "kernelspec": {
   "display_name": "Python 3",
   "language": "python",
   "name": "python3"
  },
  "language_info": {
   "codemirror_mode": {
    "name": "ipython",
    "version": 3
   },
   "file_extension": ".py",
   "mimetype": "text/x-python",
   "name": "python",
   "nbconvert_exporter": "python",
   "pygments_lexer": "ipython3",
   "version": "3.7.3"
  }
 },
 "nbformat": 4,
 "nbformat_minor": 2
}
