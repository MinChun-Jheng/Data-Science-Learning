{
 "cells": [
  {
   "cell_type": "code",
   "execution_count": 16,
   "metadata": {},
   "outputs": [],
   "source": [
    "import pandas as pd\n",
    "financials = pd.read_pickle('dataset/financials.p')\n",
    "movies = pd.read_pickle('dataset/movies.p')"
   ]
  },
  {
   "cell_type": "markdown",
   "metadata": {},
   "source": [
    "the concept of \n",
    ".merge(how='')\n",
    "https://shanelynnwebsite-mid9n9g1q9y8tt.netdna-ssl.com/wp-content/uploads/2017/03/join-types-merge-names.jpg"
   ]
  },
  {
   "cell_type": "code",
   "execution_count": 4,
   "metadata": {},
   "outputs": [
    {
     "name": "stdout",
     "output_type": "stream",
     "text": [
      "1574\n"
     ]
    }
   ],
   "source": [
    "# 1. Counting missing rows with left join\n",
    "# Merge the movies table with the financials table with a left join\n",
    "movies_financials = movies.merge(financials, on='id', how='left')\n",
    "\n",
    "# Count the number of rows in the budget column that are missing\n",
    "number_of_missing_fin = movies_financials['budget'].isnull().sum()\n",
    "\n",
    "# Print the number of movies missing financials\n",
    "print(number_of_missing_fin)"
   ]
  },
  {
   "cell_type": "code",
   "execution_count": null,
   "metadata": {},
   "outputs": [],
   "source": [
    "# 2. Enriching a dataset\n",
    "# Merge the toy_story and taglines tables with a inner join\n",
    "toystory_tag = toy_story.merge(taglines, on='id')\n",
    "\n",
    "# Print the rows and shape of toystory_tag\n",
    "print(toystory_tag)\n",
    "print(toystory_tag.shape)"
   ]
  },
  {
   "cell_type": "code",
   "execution_count": null,
   "metadata": {},
   "outputs": [],
   "source": [
    "# 3. Right join to find unique movies\n",
    "# Merge action_movies to the scifi_movies with right join\n",
    "action_scifi = action_movies.merge(scifi_movies, on='movie_id', how='right',\n",
    "                                   suffixes=('_act','_sci'))\n",
    "\n",
    "# From action_scifi, select only the rows where the genre_act column is null\n",
    "scifi_only = action_scifi[action_scifi['genre_act'].isnull()]\n",
    "\n",
    "# Merge the movies and scifi_only tables with an inner join\n",
    "movies_and_scifi_only = movies.merge(scifi_only, left_on='id', right_on='movie_id')\n",
    "\n",
    "# Print the first few rows and shape of movies_and_scifi_only\n",
    "print(movies_and_scifi_only.head())\n",
    "print(movies_and_scifi_only.shape)"
   ]
  },
  {
   "cell_type": "code",
   "execution_count": 7,
   "metadata": {},
   "outputs": [],
   "source": [
    "import matplotlib.pyplot as plt\n",
    "movie_to_genres = pd.read_pickle('dataset/movie_to_genres.p')\n",
    "pop_movies = pd.read_pickle('dataset/movies.p')"
   ]
  },
  {
   "cell_type": "code",
   "execution_count": 8,
   "metadata": {},
   "outputs": [
    {
     "data": {
      "image/png": "[encoded data removed]",
      "text/plain": [
       "<Figure size 432x288 with 1 Axes>"
      ]
     },
     "metadata": {
      "needs_background": "light"
     },
     "output_type": "display_data"
    }
   ],
   "source": [
    "# 4.Popular genres with right join\n",
    "# Use right join to merge the movie_to_genres and pop_movies tables\n",
    "genres_movies = movie_to_genres.merge(pop_movies, how='right', \n",
    "                                      left_on='movie_id', \n",
    "                                      right_on='id')\n",
    "\n",
    "# Count the number of genres\n",
    "genre_count = genres_movies.groupby('genre').agg({'id':'count'})\n",
    "\n",
    "# Plot a bar chart of the genre_count\n",
    "genre_count.plot(kind='bar')\n",
    "plt.show()"
   ]
  },
  {
   "cell_type": "code",
   "execution_count": null,
   "metadata": {},
   "outputs": [],
   "source": [
    "# 5. Using outer join to select actors\n",
    "# Merge iron_1_actors to iron_2_actors on id with outer join using suffixes\n",
    "iron_1_and_2 = iron_1_actors.merge(iron_2_actors,\n",
    "                                     on='id',\n",
    "                                     how='outer',\n",
    "                                     suffixes=('_1','_2'))\n",
    "\n",
    "# Create an index that returns true if name_1 or name_2 are null\n",
    "m = ((iron_1_and_2['name_1'].isnull()) | \n",
    "     (iron_1_and_2['name_2'].isnull()))\n",
    "\n",
    "# Print the first few rows of iron_1_and_2\n",
    "print(iron_1_and_2[m].head())"
   ]
  },
  {
   "cell_type": "code",
   "execution_count": 12,
   "metadata": {},
   "outputs": [
    {
     "name": "stdout",
     "output_type": "stream",
     "text": [
      "      id  department             job               name\n",
      "0  19995     Editing          Editor  Stephen E. Rivkin\n",
      "2  19995       Sound  Sound Designer  Christopher Boyes\n",
      "4  19995  Production         Casting          Mali Finn\n",
      "6  19995   Directing        Director      James Cameron\n",
      "7  19995     Writing          Writer      James Cameron\n",
      "(42502, 4)\n"
     ]
    }
   ],
   "source": [
    "crews= pd.read_pickle('dataset/crews.p')\n",
    "print(crews.head())\n",
    "print(crews.shape)"
   ]
  },
  {
   "cell_type": "code",
   "execution_count": 13,
   "metadata": {},
   "outputs": [
    {
     "name": "stdout",
     "output_type": "stream",
     "text": [
      "      id department_dir job_dir           name_dir    department_crew  \\\n",
      "0  19995        Editing  Editor  Stephen E. Rivkin            Editing   \n",
      "1  19995        Editing  Editor  Stephen E. Rivkin              Sound   \n",
      "2  19995        Editing  Editor  Stephen E. Rivkin         Production   \n",
      "3  19995        Editing  Editor  Stephen E. Rivkin          Directing   \n",
      "4  19995        Editing  Editor  Stephen E. Rivkin            Writing   \n",
      "5  19995        Editing  Editor  Stephen E. Rivkin                Art   \n",
      "6  19995        Editing  Editor  Stephen E. Rivkin  Costume & Make-Up   \n",
      "7  19995        Editing  Editor  Stephen E. Rivkin             Camera   \n",
      "8  19995        Editing  Editor  Stephen E. Rivkin  Costume & Make-Up   \n",
      "9  19995        Editing  Editor  Stephen E. Rivkin               Crew   \n",
      "\n",
      "                  job_crew          name_crew  \n",
      "0                   Editor  Stephen E. Rivkin  \n",
      "1           Sound Designer  Christopher Boyes  \n",
      "2                  Casting          Mali Finn  \n",
      "3                 Director      James Cameron  \n",
      "4                   Writer      James Cameron  \n",
      "5             Set Designer    Richard F. Mays  \n",
      "6           Costume Design     Mayes C. Rubeo  \n",
      "7  Director of Photography        Mauro Fiore  \n",
      "8              Hairstylist      Linda DeVetta  \n",
      "9    Visual Effects Editor     Steve R. Moore  \n",
      "(834194, 7)\n",
      "        id department_dir   job_dir       name_dir department_crew  \\\n",
      "156  19995      Directing  Director  James Cameron         Editing   \n",
      "157  19995      Directing  Director  James Cameron           Sound   \n",
      "158  19995      Directing  Director  James Cameron      Production   \n",
      "160  19995      Directing  Director  James Cameron         Writing   \n",
      "161  19995      Directing  Director  James Cameron             Art   \n",
      "\n",
      "           job_crew          name_crew  \n",
      "156          Editor  Stephen E. Rivkin  \n",
      "157  Sound Designer  Christopher Boyes  \n",
      "158         Casting          Mali Finn  \n",
      "160          Writer      James Cameron  \n",
      "161    Set Designer    Richard F. Mays  \n"
     ]
    }
   ],
   "source": [
    "# 6. Self join\n",
    "# Merge the crews table to itself\n",
    "crews_self_merged = crews.merge(crews, on='id', how='inner',\n",
    "                                suffixes=('_dir','_crew'))\n",
    "print(crews_self_merged.head(10))\n",
    "print(crews_self_merged.shape)\n",
    "# Create a boolean index to select the appropriate rows\n",
    "boolean_filter = ((crews_self_merged['job_dir'] == 'Director') & \n",
    "                  (crews_self_merged['job_crew'] != 'Director'))\n",
    "direct_crews = crews_self_merged[boolean_filter]\n",
    "\n",
    "# Print the first few rows of direct_crews\n",
    "print(direct_crews.head())"
   ]
  },
  {
   "cell_type": "code",
   "execution_count": null,
   "metadata": {},
   "outputs": [],
   "source": [
    "# 7. Index merge for movie ratings\n",
    "# Merge to the movies table the ratings table on the index\n",
    "movies_ratings = movies.merge(ratings, left_index=True, right_index=True)\n",
    "\n",
    "# Print the first few rows of movies_ratings\n",
    "print(movies_ratings.head())"
   ]
  },
  {
   "cell_type": "code",
   "execution_count": 25,
   "metadata": {},
   "outputs": [
    {
     "name": "stdout",
     "output_type": "stream",
     "text": [
      "       id     budget       revenue\n",
      "0   19995  237000000  2.787965e+09\n",
      "1     285  300000000  9.610000e+08\n",
      "2  206647  245000000  8.806746e+08\n",
      "3   49026  250000000  1.084939e+09\n",
      "4   49529  260000000  2.841391e+08\n",
      "      id         title  sequel\n",
      "0  19995        Avatar     NaN\n",
      "1    862     Toy Story     863\n",
      "2    863   Toy Story 2   10193\n",
      "3    597       Titanic     NaN\n",
      "4  24428  The Avengers     NaN\n",
      "      id         title  sequel       budget       revenue\n",
      "0  19995        Avatar     NaN  237000000.0  2.787965e+09\n",
      "1    862     Toy Story     863   30000000.0  3.735540e+08\n",
      "2    863   Toy Story 2   10193   90000000.0  4.973669e+08\n",
      "3    597       Titanic     NaN  200000000.0  1.845034e+09\n",
      "4  24428  The Avengers     NaN  220000000.0  1.519558e+09\n",
      "(4803, 5)\n"
     ]
    }
   ],
   "source": [
    "sequels = pd.read_pickle('dataset/sequels.p')\n",
    "print(financials.head())\n",
    "print(sequels.head())\n",
    "print(sequels_fin.head())\n",
    "print(sequels_fin.shape)"
   ]
  },
  {
   "cell_type": "code",
   "execution_count": 24,
   "metadata": {},
   "outputs": [
    {
     "name": "stdout",
     "output_type": "stream",
     "text": [
      "(878, 12)\n",
      "     id  id_org                                      title_org  sequel_org  \\\n",
      "1   862     862                                      Toy Story         863   \n",
      "2   863     863                                    Toy Story 2       10193   \n",
      "3   597     597                                        Titanic         NaN   \n",
      "13  122     122  The Lord of the Rings: The Return of the King         NaN   \n",
      "18   58      58     Pirates of the Caribbean: Dead Man's Chest         NaN   \n",
      "\n",
      "     budget_org   revenue_org  id_seq               title_seq  sequel_seq  \\\n",
      "1    30000000.0  3.735540e+08    2157           Lost in Space         NaN   \n",
      "2    90000000.0  4.973669e+08   41439  Saw: The Final Chapter         NaN   \n",
      "3   200000000.0  1.845034e+09     579                  Jaws 2         NaN   \n",
      "13   94000000.0  1.118889e+09   49013                  Cars 2         NaN   \n",
      "18  200000000.0  1.065660e+09     558            Spider-Man 2         NaN   \n",
      "\n",
      "     budget_seq  revenue_seq          diff  \n",
      "1    80000000.0  136159423.0 -2.373946e+08  \n",
      "2    20000000.0  136150434.0 -3.612164e+08  \n",
      "3    20000000.0  187884007.0 -1.657150e+09  \n",
      "13  200000000.0  559852396.0 -5.590366e+08  \n",
      "18  200000000.0  783766341.0 -2.818935e+08  \n",
      "               title_org                                    title_seq  \\\n",
      "2990          Four Rooms                               Jurassic World   \n",
      "3214          Metropolis  Pirates of the Caribbean: On Stranger Tides   \n",
      "1885  Dancer in the Dark                        The Dark Knight Rises   \n",
      "1159             Jarhead                              The Jungle Book   \n",
      "1238      Apocalypse Now    The Hobbit: The Battle of the Five Armies   \n",
      "\n",
      "              diff  \n",
      "2990  1.509229e+09  \n",
      "3214  1.045063e+09  \n",
      "1885  1.044907e+09  \n",
      "1159  8.696606e+08  \n",
      "1238  8.665594e+08  \n"
     ]
    }
   ],
   "source": [
    "# 8. Do sequels earn more?\n",
    "# 找續作\n",
    "# Merge sequels and financials on index id\n",
    "sequels_fin = sequels.merge(financials, on='id', how='left')\n",
    "# Self merge with suffixes as inner join with left on sequel and right on id\n",
    "orig_seq = sequels_fin.merge(sequels_fin, how='inner', left_on='id', \n",
    "                             right_on='sequel', right_index=True,\n",
    "                             suffixes=('_org','_seq'))\n",
    "# Add calculation to subtract revenue_org from revenue_seq \n",
    "orig_seq['diff'] = orig_seq['revenue_seq'] - orig_seq['revenue_org']\n",
    "print(orig_seq.shape)\n",
    "print(orig_seq.head())\n",
    "# Select the title_org, title_seq, and diff \n",
    "titles_diff = orig_seq[['title_org','title_seq','diff']]\n",
    "\n",
    "# Print the first rows of the sorted titles_diff\n",
    "print(titles_diff.sort_values(by='diff', ascending=False).head())"
   ]
  },
  {
   "cell_type": "code",
   "execution_count": null,
   "metadata": {},
   "outputs": [],
   "source": []
  }
 ],
 "metadata": {
  "kernelspec": {
   "display_name": "Python 3",
   "language": "python",
   "name": "python3"
  },
  "language_info": {
   "codemirror_mode": {
    "name": "ipython",
    "version": 3
   },
   "file_extension": ".py",
   "mimetype": "text/x-python",
   "name": "python",
   "nbconvert_exporter": "python",
   "pygments_lexer": "ipython3",
   "version": "3.7.3"
  }
 },
 "nbformat": 4,
 "nbformat_minor": 2
}
